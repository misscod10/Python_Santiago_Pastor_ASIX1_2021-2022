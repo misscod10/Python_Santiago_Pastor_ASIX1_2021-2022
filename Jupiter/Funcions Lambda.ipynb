{
 "cells": [
  {
   "cell_type": "markdown",
   "id": "0feadcf2",
   "metadata": {},
   "source": [
    "# Funcions Lambda\n",
    "Una funció _lambda_ és segons la documentació oficial es un tpus d'escriptura simplificat una drecera per quan et fa mandra crear una funció.\n",
    "Veiem un exemple:"
   ]
  },
  {
   "cell_type": "code",
   "execution_count": null,
   "id": "4f80aa53",
   "metadata": {},
   "outputs": [],
   "source": [
    "f = lambda a, b: a + b\n",
    "\n",
    "print(f(3, 6))"
   ]
  },
  {
   "cell_type": "markdown",
   "id": "3053aac7",
   "metadata": {},
   "source": [
    "L'exemple anterior és equivalent a:"
   ]
  },
  {
   "cell_type": "code",
   "execution_count": null,
   "id": "d5b14a54",
   "metadata": {},
   "outputs": [],
   "source": [
    "\n",
    "\n",
    "def suma(a, b):\n",
    "    return a + b\n",
    "\n",
    "f = suma\n",
    "print(f(3,5))"
   ]
  },
  {
   "cell_type": "markdown",
   "id": "7b733f41",
   "metadata": {},
   "source": [
    "Inclús podriem executarla a la mateixa línia de declaració:"
   ]
  },
  {
   "cell_type": "code",
   "execution_count": null,
   "id": "1fbede36",
   "metadata": {},
   "outputs": [],
   "source": [
    "(lambda a,b: a + b)(3, 9)"
   ]
  },
  {
   "cell_type": "markdown",
   "id": "a3200b66",
   "metadata": {},
   "source": [
    "Dos usos típics de les lambdes són:\n",
    "1. Com a retorn d'una funció.\n",
    "2. Com a paràmetre d'una funció que requereix d'una altra funció."
   ]
  },
  {
   "cell_type": "markdown",
   "id": "ddadddfb",
   "metadata": {},
   "source": [
    "### Lambda com a retorn d'una funció.\n",
    "#### Això es va inventar per a fer explotar caps. Preneu-vos-ho amb calma, pot ser perillós!!!"
   ]
  },
  {
   "cell_type": "code",
   "execution_count": 1,
   "id": "c2bfea18",
   "metadata": {},
   "outputs": [
    {
     "name": "stdout",
     "output_type": "stream",
     "text": [
      "tripletejador(8)=24\n",
      "doblejador(8)=16\n"
     ]
    }
   ],
   "source": [
    "\n",
    "\n",
    "def multiplicador(n):\n",
    "    return lambda a: a * n\n",
    "\n",
    "tripletejador = multiplicador(3)\n",
    "doblejador = multiplicador(2)\n",
    "\n",
    "print(f\"{tripletejador(8)=}\")\n",
    "print(f\"{doblejador(8)=}\")"
   ]
  },
  {
   "cell_type": "markdown",
   "id": "3176d38a",
   "metadata": {},
   "source": [
    "### Lambda com a paràmetre d'una funció.\n",
    "#### Altrament coneguda com __callback__"
   ]
  },
  {
   "cell_type": "code",
   "execution_count": 2,
   "id": "ddb4a81e",
   "metadata": {},
   "outputs": [
    {
     "name": "stdout",
     "output_type": "stream",
     "text": [
      "8\n",
      "<p>\n",
      "\tresultat: <span id=\"resultat\">8</span>\n",
      "</p>\n",
      "{\"resultat\": 8}\n",
      "resultat: 8\n"
     ]
    }
   ],
   "source": [
    "\n",
    "\n",
    "def suma(sum1, sum2, visualitzador = lambda a: str(a)):\n",
    "    return visualitzador(sum1 + sum2)\n",
    "\n",
    "print (suma(3, 5))\n",
    "print (suma(3, 5, lambda a: '<p>\\n\\tresultat: <span id=\"resultat\">' + str(a) + \"</span>\\n</p>\"))\n",
    "print (suma(3, 5, lambda a: '{\"resultat\": ' + str(a) + '}'))\n",
    "\n",
    "\n",
    "def el_meu_visualitzador(nombre):\n",
    "    resultat = \"resultat: \" + str(nombre)\n",
    "    return resultat\n",
    "\n",
    "print (suma(3, 5, el_meu_visualitzador))"
   ]
  },
  {
   "cell_type": "code",
   "execution_count": null,
   "id": "ad6349fd",
   "metadata": {},
   "outputs": [],
   "source": []
  }
 ],
 "metadata": {
  "kernelspec": {
   "display_name": "Python 3 (ipykernel)",
   "language": "python",
   "name": "python3"
  },
  "language_info": {
   "codemirror_mode": {
    "name": "ipython",
    "version": 3
   },
   "file_extension": ".py",
   "mimetype": "text/x-python",
   "name": "python",
   "nbconvert_exporter": "python",
   "pygments_lexer": "ipython3",
   "version": "3.9.7"
  }
 },
 "nbformat": 4,
 "nbformat_minor": 5
}
